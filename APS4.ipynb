{
 "cells": [
  {
   "cell_type": "markdown",
   "metadata": {},
   "source": [
    "# Parte 4: Teste de hipótese\n",
    "Conduzir testes inferenciais adequados que possam dar base à tomada de decisão\n",
    "\n",
    "Embora seja um clichê pensarmos que alguns grupos de países são mais avançados que outros, isso nem sempre se confirma quando observamos dados. Nesta parte do trabalho, verificaremos se temos dados suficientes para justificar afirmações como esta. Tome por base o modelo estatístico que você encontrou na etapa anterior para as classificações “avançado” ou “atrasado” de países e:\n",
    "\n",
    "- Para cada bloco, encontre a probabilidade de um país sorteado aleatoriamente naquele bloco ser da categoria “avançado” (isto é: P(avançado|bloco)).\n",
    "- Usando bootstrapping, calcule o intervalo de confiança de 90% para P(avançado|bloco) para cada bloco.\n",
    "- Mostre, em uma figura, P(avançado|bloco) e os intervalos de confiança calculados. Há sobreposição dos intervalos de confiança? Quais?\n",
    "- Levando em consideração os intervalos de confiança, seria seguro dizer que países de um bloco são tipicamente mais “avançados” que os de outro bloco em relação ao indicador que você escolheu?\n"
   ]
  },
  {
   "cell_type": "markdown",
   "metadata": {},
   "source": [
    "##### Reutilizando dados da APS3"
   ]
  },
  {
   "cell_type": "code",
   "execution_count": 11,
   "metadata": {},
   "outputs": [],
   "source": [
    "import pandas as pd\n",
    "import matplotlib.pyplot as plt\n",
    "import scipy.stats as stats\n",
    "import numpy as np"
   ]
  },
  {
   "cell_type": "code",
   "execution_count": 12,
   "metadata": {},
   "outputs": [
    {
     "name": "stderr",
     "output_type": "stream",
     "text": [
      "<ipython-input-12-26dd1df4fd8e>:7: SettingWithCopyWarning: \n",
      "A value is trying to be set on a copy of a slice from a DataFrame.\n",
      "Try using .loc[row_indexer,col_indexer] = value instead\n",
      "\n",
      "See the caveats in the documentation: https://pandas.pydata.org/pandas-docs/stable/user_guide/indexing.html#returning-a-view-versus-a-copy\n",
      "  df_otan['Avançado'] = df['2019'] < 5\n",
      "<ipython-input-12-26dd1df4fd8e>:12: SettingWithCopyWarning: \n",
      "A value is trying to be set on a copy of a slice from a DataFrame.\n",
      "Try using .loc[row_indexer,col_indexer] = value instead\n",
      "\n",
      "See the caveats in the documentation: https://pandas.pydata.org/pandas-docs/stable/user_guide/indexing.html#returning-a-view-versus-a-copy\n",
      "  df_brics['Avançado'] = df['2019'] < 5\n"
     ]
    }
   ],
   "source": [
    "import pandas as pd\n",
    "\n",
    "#OTAN\n",
    "df = pd.read_csv('dados_corrigidos/API_SE.PRM.UNER.ZS_DS2_en_csv_v2_4492680.csv', sep=',', encoding='latin1', skiprows=4, decimal='.')\n",
    "filtro_otan = ['United States','Canada','Belgium','France','Italy','Denmark','Iceland','Norway','Portugal','Luxembourg','United Kingdom','Greece','Turkiye','Germany','Poland','Czech Republic','Hungary']\n",
    "df_otan = df[df['Country Name'].isin(filtro_otan)]\n",
    "df_otan['Avançado'] = df['2019'] < 5\n",
    "\n",
    "#BRICS\n",
    "filtros_brics = ['Brazil','India', 'South Africa', 'Russian Federation', 'China']\n",
    "df_brics = df[df['Country Name'].isin(filtros_brics)]\n",
    "df_brics['Avançado'] = df['2019'] < 5"
   ]
  },
  {
   "cell_type": "markdown",
   "metadata": {},
   "source": [
    "### EX1\n"
   ]
  },
  {
   "cell_type": "markdown",
   "metadata": {},
   "source": [
    "P(avançado | BRICS)"
   ]
  },
  {
   "cell_type": "code",
   "execution_count": 13,
   "metadata": {},
   "outputs": [
    {
     "name": "stdout",
     "output_type": "stream",
     "text": [
      "OTAN: 94.1%\n"
     ]
    }
   ],
   "source": [
    "print(f\"OTAN: {100 * len(df_otan[df_otan['Avançado'] == True]) / len(df_otan):.1f}%\")"
   ]
  },
  {
   "cell_type": "markdown",
   "metadata": {},
   "source": [
    "P(avançado | OTAN)"
   ]
  },
  {
   "cell_type": "code",
   "execution_count": 14,
   "metadata": {},
   "outputs": [
    {
     "name": "stdout",
     "output_type": "stream",
     "text": [
      "BRICS: 40.0%\n"
     ]
    }
   ],
   "source": [
    "print(f\"BRICS: {100 * len(df_brics[df_brics['Avançado'] == True]) / len(df_brics)}%\")"
   ]
  },
  {
   "cell_type": "code",
   "execution_count": 26,
   "metadata": {},
   "outputs": [],
   "source": [
    "#teste\n",
    "\n",
    "def reamostrar_varias_vezes(amostras, n, m):\n",
    "    medias = []\n",
    "    for i in range(n):\n",
    "        amostras_ = np.random.choice(amostras, size=m, replace=True)\n",
    "        medias.append(np.mean(amostras_))\n",
    "    return medias\n",
    "\n",
    "med = reamostrar_varias_vezes(df_otan['Avançado'], 100, 10000)"
   ]
  },
  {
   "cell_type": "code",
   "execution_count": 30,
   "metadata": {},
   "outputs": [
    {
     "data": {
      "image/png": "[encoded data removed]",
      "text/plain": [
       "<Figure size 432x288 with 1 Axes>"
      ]
     },
     "metadata": {
      "needs_background": "light"
     },
     "output_type": "display_data"
    }
   ],
   "source": [
    "#teste\n",
    "plt.figure()\n",
    "plt.hist(med, bins=10)\n",
    "plt.show()"
   ]
  }
 ],
 "metadata": {
  "kernelspec": {
   "display_name": "Python 3.8.10 64-bit",
   "language": "python",
   "name": "python3"
  },
  "language_info": {
   "codemirror_mode": {
    "name": "ipython",
    "version": 3
   },
   "file_extension": ".py",
   "mimetype": "text/x-python",
   "name": "python",
   "nbconvert_exporter": "python",
   "pygments_lexer": "ipython3",
   "version": "3.8.10"
  },
  "orig_nbformat": 4,
  "vscode": {
   "interpreter": {
    "hash": "916dbcbb3f70747c44a77c7bcd40155683ae19c65e1c03b4aa3499c5328201f1"
   }
  }
 },
 "nbformat": 4,
 "nbformat_minor": 2
}
