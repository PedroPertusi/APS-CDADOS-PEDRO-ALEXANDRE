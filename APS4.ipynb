{
 "cells": [
  {
   "cell_type": "markdown",
   "metadata": {},
   "source": [
    "# Parte 4: Teste de hipótese\n",
    "Conduzir testes inferenciais adequados que possam dar base à tomada de decisão\n",
    "\n",
    "Embora seja um clichê pensarmos que alguns grupos de países são mais avançados que outros, isso nem sempre se confirma quando observamos dados. Nesta parte do trabalho, verificaremos se temos dados suficientes para justificar afirmações como esta. Tome por base o modelo estatístico que você encontrou na etapa anterior para as classificações “avançado” ou “atrasado” de países e:\n",
    "\n",
    "- Para cada bloco, encontre a probabilidade de um país sorteado aleatoriamente naquele bloco ser da categoria “avançado” (isto é: P(avançado|bloco)).\n",
    "- Usando bootstrapping, calcule o intervalo de confiança de 90% para P(avançado|bloco) para cada bloco.\n",
    "- Mostre, em uma figura, P(avançado|bloco) e os intervalos de confiança calculados. Há sobreposição dos intervalos de confiança? Quais?\n",
    "- Levando em consideração os intervalos de confiança, seria seguro dizer que países de um bloco são tipicamente mais “avançados” que os de outro bloco em relação ao indicador que você escolheu?\n"
   ]
  },
  {
   "cell_type": "markdown",
   "metadata": {},
   "source": [
    "##### Reutilizando dados da APS3"
   ]
  },
  {
   "cell_type": "code",
   "execution_count": 1,
   "metadata": {},
   "outputs": [],
   "source": [
    "import pandas as pd\n",
    "import matplotlib.pyplot as plt\n",
    "import scipy.stats as stats\n",
    "import numpy as np"
   ]
  },
  {
   "cell_type": "code",
   "execution_count": 2,
   "metadata": {},
   "outputs": [
    {
     "name": "stderr",
     "output_type": "stream",
     "text": [
      "/var/folders/_1/r43prrg90j18zc5g3c_q_qt00000gn/T/ipykernel_2604/434612064.py:7: SettingWithCopyWarning: \n",
      "A value is trying to be set on a copy of a slice from a DataFrame.\n",
      "Try using .loc[row_indexer,col_indexer] = value instead\n",
      "\n",
      "See the caveats in the documentation: https://pandas.pydata.org/pandas-docs/stable/user_guide/indexing.html#returning-a-view-versus-a-copy\n",
      "  df_otan['Avançado'] = df['2019'] < 5\n",
      "/var/folders/_1/r43prrg90j18zc5g3c_q_qt00000gn/T/ipykernel_2604/434612064.py:12: SettingWithCopyWarning: \n",
      "A value is trying to be set on a copy of a slice from a DataFrame.\n",
      "Try using .loc[row_indexer,col_indexer] = value instead\n",
      "\n",
      "See the caveats in the documentation: https://pandas.pydata.org/pandas-docs/stable/user_guide/indexing.html#returning-a-view-versus-a-copy\n",
      "  df_brics['Avançado'] = df['2019'] < 5\n"
     ]
    }
   ],
   "source": [
    "import pandas as pd\n",
    "\n",
    "#OTAN\n",
    "df = pd.read_csv('dados_corrigidos/API_SE.PRM.UNER.ZS_DS2_en_csv_v2_4492680.csv', sep=',', encoding='latin1', skiprows=4, decimal='.')\n",
    "filtro_otan = ['United States','Canada','Belgium','France','Italy','Denmark','Iceland','Norway','Portugal','Luxembourg','United Kingdom','Greece','Turkiye','Germany','Poland','Czech Republic','Hungary']\n",
    "df_otan = df[df['Country Name'].isin(filtro_otan)]\n",
    "df_otan['Avançado'] = df['2019'] < 5\n",
    "\n",
    "#BRICS\n",
    "filtros_brics = ['Brazil','India', 'South Africa', 'Russian Federation', 'China']\n",
    "df_brics = df[df['Country Name'].isin(filtros_brics)]\n",
    "df_brics['Avançado'] = df['2019'] < 5"
   ]
  },
  {
   "cell_type": "markdown",
   "metadata": {},
   "source": [
    "### EX1\n"
   ]
  },
  {
   "cell_type": "markdown",
   "metadata": {},
   "source": [
    "P(avançado | BRICS)"
   ]
  },
  {
   "cell_type": "code",
   "execution_count": 3,
   "metadata": {},
   "outputs": [
    {
     "name": "stdout",
     "output_type": "stream",
     "text": [
      "OTAN: 94.1%\n"
     ]
    }
   ],
   "source": [
    "print(f\"OTAN: {100 * len(df_otan[df_otan['Avançado'] == True]) / len(df_otan):.1f}%\")"
   ]
  },
  {
   "cell_type": "markdown",
   "metadata": {},
   "source": [
    "P(avançado | OTAN)"
   ]
  },
  {
   "cell_type": "code",
   "execution_count": 4,
   "metadata": {},
   "outputs": [
    {
     "name": "stdout",
     "output_type": "stream",
     "text": [
      "BRICS: 40.0%\n"
     ]
    }
   ],
   "source": [
    "print(f\"BRICS: {100 * len(df_brics[df_brics['Avançado'] == True]) / len(df_brics)}%\")"
   ]
  },
  {
   "cell_type": "markdown",
   "metadata": {},
   "source": [
    "##### TRATAMENTO DE DADOS"
   ]
  },
  {
   "cell_type": "code",
   "execution_count": 5,
   "metadata": {},
   "outputs": [],
   "source": [
    "df_otan = df_otan.replace(True, 'Avançado')\n",
    "df_otan = df_otan.replace(False, 'Atrasado')\n",
    "df_brics = df_brics.replace(True, 'Avançado')\n",
    "df_brics = df_brics.replace(True, 'Atrasado')"
   ]
  },
  {
   "cell_type": "markdown",
   "metadata": {},
   "source": [
    "### BOOTSTRAP (FUNÇÃO)"
   ]
  },
  {
   "cell_type": "code",
   "execution_count": 6,
   "metadata": {},
   "outputs": [],
   "source": [
    "def reamostrar_varias_vezes_median(amostras, m, n=9999):\n",
    "    std = []\n",
    "    for i in range(n):\n",
    "        amostras_ = np.random.choice(amostras, size=m, replace=True)\n",
    "        avancado = 0\n",
    "        for i in amostras_:\n",
    "            if i == 'Avançado':\n",
    "                avancado += 1\n",
    "        std.append(avancado/m)\n",
    "    return np.median(std), np.percentile(std, 5), np.percentile(std, 95), std"
   ]
  },
  {
   "cell_type": "markdown",
   "metadata": {},
   "source": [
    "### OBTENDO RESULTADOS E MONTANDO FIGURA DO BOOTSTRAP"
   ]
  },
  {
   "cell_type": "code",
   "execution_count": 16,
   "metadata": {},
   "outputs": [
    {
     "name": "stdout",
     "output_type": "stream",
     "text": [
      "Média Otan: 1.0 |  Percentil 5 Otan: 0.8 |  Percentil 95 Otan: 1.0\n",
      "Média Brics: 0.4 |  Percentil 5 Brics: 0.2 |  Percentil 95 Brics: 0.7\n"
     ]
    },
    {
     "data": {
      "image/png": "[encoded data removed]",
      "text/plain": [
       "<Figure size 432x288 with 1 Axes>"
      ]
     },
     "metadata": {
      "needs_background": "light"
     },
     "output_type": "display_data"
    },
    {
     "data": {
      "image/png": "[encoded data removed]",
      "text/plain": [
       "<Figure size 432x288 with 1 Axes>"
      ]
     },
     "metadata": {
      "needs_background": "light"
     },
     "output_type": "display_data"
    }
   ],
   "source": [
    "media_ot, percentil_5_ot, percentil_95_ot, amostra_ot = reamostrar_varias_vezes_median(df_otan['Avançado'], 10)\n",
    "media_br, percentil_5_br, percentil_95_br, amostra_br = reamostrar_varias_vezes_median(df_brics['Avançado'], 10)\n",
    "print('Média Otan: ' + str(media_ot) + ' |  Percentil 5 Otan: ' + str(percentil_5_ot) + ' |  Percentil 95 Otan: ' + str(percentil_95_ot))\n",
    "print('Média Brics: ' + str(media_br) + ' |  Percentil 5 Brics: ' + str(percentil_5_br) + ' |  Percentil 95 Brics: ' + str(percentil_95_br))\n",
    "\n",
    "plt.figure()\n",
    "plt.hist(amostra_ot, bins=5, color=['purple'])\n",
    "plt.axvline(percentil_5_ot, color='red', linestyle='dashed', linewidth=1)\n",
    "plt.axvline(percentil_95_ot, color='red', linestyle='dashed', linewidth=1)\n",
    "plt.title('Probabilidade de países da Otan serem classificados avançado')\n",
    "plt.xlabel('Média de paíese avançados (%)')\n",
    "plt.ylabel('Total de ensaios')\n",
    "plt.show()\n",
    "\n",
    "plt.figure()\n",
    "plt.hist(amostra_br, bins=5, color=['orange'])\n",
    "plt.title('Probabilidade de países do BRICS serem classificados avançado')\n",
    "plt.xlabel('Média de paíese avançados (%)')\n",
    "plt.axvline(percentil_5_br, color='red', linestyle='dashed', linewidth=1)\n",
    "plt.axvline(percentil_95_br, color='red', linestyle='dashed', linewidth=1)\n",
    "plt.ylabel('Total de ensaios')\n",
    "plt.show()"
   ]
  }
 ],
 "metadata": {
  "kernelspec": {
   "display_name": "Python 3.9.10 64-bit",
   "language": "python",
   "name": "python3"
  },
  "language_info": {
   "codemirror_mode": {
    "name": "ipython",
    "version": 3
   },
   "file_extension": ".py",
   "mimetype": "text/x-python",
   "name": "python",
   "nbconvert_exporter": "python",
   "pygments_lexer": "ipython3",
   "version": "3.9.10"
  },
  "orig_nbformat": 4,
  "vscode": {
   "interpreter": {
    "hash": "aee8b7b246df8f9039afb4144a1f6fd8d2ca17a180786b69acc140d282b71a49"
   }
  }
 },
 "nbformat": 4,
 "nbformat_minor": 2
}
