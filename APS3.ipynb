{
 "cells": [
  {
   "cell_type": "markdown",
   "metadata": {},
   "source": [
    "**Parte 3: Distribuições**\n",
    "<br> Analisar relações entre as variáveis, utilizando ferramentas estatísticas inferenciais adequadas\n",
    "\n",
    "Desde o começo dos anos 1990, vários países têm se agrupado em blocos de interesse comum, como a União Européia e o Mercosul. Os blocos econômicos são grupos de países que decidem reduzir suas restrições para comércio, financiamento ou trânsito de pessoas entre si, numa tentativa de incentivar suas economias e ao mesmo tempo protegê-las de competições desiguais. Nesta etapa, faremos a análise de blocos econômicos frente aos indicadores que escolhemos.\n",
    "\n",
    "1. Escolha dois blocos econômicos (por exemplo, Mercosul, União Européia, BRICS, OPEP, etc.). Pesquise para entender quais foram os critérios para a criação do bloco (proximidade geográfica? Proximidade econômica? Proximidade cultural? Outro?) e quais foram as aberturas providas pelo bloco (isenção de impostos? trânsito de pessoas? acesso a financiamentos? outro?)\n",
    "2. Em cada um dos países dos blocos, verifique se deveriam ser classificados como “avançado” ou “atrasado” em relação ao indicador que você escolheu no ítem 1. Defina claramente qual foi seu critério para esta separação!\n",
    "3. Para cada bloco, estime a probabilidade de um país daquele bloco ser avançado, isto é, P(avançado|bloco).\n",
    "4. Usando o Teorema de Bayes, estime, para cada bloco, P(bloco|avançado).\n",
    "5. Projete um pequeno sistema que classifica países como participantes de algum bloco à partir da informação de eles serem avançados ou não no indicador que foi escolhido.\n",
    "6. Conclua: o indicador que você escolheu é um bom preditor para o bloco econômico?"
   ]
  },
  {
   "cell_type": "markdown",
   "metadata": {},
   "source": [
    "<h1>Texto</h1>"
   ]
  },
  {
   "cell_type": "markdown",
   "metadata": {},
   "source": [
    "<p>\n",
    "Os blocos econômicos utilizados pelo grupo foram a OTAN e o BRICS. Inicialmente sobre a Organização do Atlântico Norte, bloco fundado anos após o término da Segunda Guerra Mundial. Dessa forma, a OTAN foi criada com o preceito de ser uma aliança especial militar, entre países do polo capitalista, focados em garantir apoio e defesa militar aos membros, principalmente com a tendência expansionista da União Soviética. \n",
    "Assim, para a principal potência do bloco, Os Estados Unidos, era fundamental manter os aliados sob sua influência, frente ao potencial inimigo, especialmente pois os ideais do polo soviético estavam se infiltrando e ganhando força sobre os europeus na época.\n",
    "\n",
    "Hoje a OTAN conta com 28 países e dentre seus benefícios, em especial mantidos até hoje, há a garantia de defesa mútua entre os membros, integração dos países do bloco capitalista, padronização, desenvolvimento bélico e realização de reuniões frequentes para debater assuntos importantes de interesse do bloco. Sendo esses tópicos de extrema importância no ano de 2022, frente ao conflito Rússia-Ucrânia, devido a tentativa dos ucranianos de ingressar no bloco e na União Europeia.\n",
    "\n",
    "Sobre o BRICS, sua criação foi em 2009, com o principal motivo de formar um clube e uma aliança política entre seus cinco membros: Brasil, Rússia, Índia, China e África do Sul. Para isso, busca-se converter as crescentes economias dos países em uma maior influência geopolítica. O grupo possui reuniões anuais para discutir assuntos de importância geopolítica, já quanto às relações bilaterais entre os membros são realizadas nos princípios de não interferência, igualdade e benefício mútuo. Dentre essas relações bilaterais, as de maior destaque são, a cooperação econômica e política e a aliança militar dos membros.\n",
    "\n",
    "O indicador que utilizamos no estudo desses blocos é o percentual de crianças fora da escola, com isso, classificamos os países como avançados se tivessem um percentual menor que 5%, caso contrário, definidos como atrasados. Em seguida, foi implementado um classificador que utilizava as probabilidades de avanço e atraso para prever a qual bloco determinado país pertencia, por fim criamos um programa que efetuava previsões e as comparava com os dados reais. \n",
    "Para o programa desenvolvido, obtivemos um percentual de acerto de 60% para o bloco do BRICS, ou seja ele classificou corretamente os países que pertenciam ao brics 60% das vezes e para a OTAN o resultado foi excelente, com assertividade de 94% de classificação.\n",
    "</p>\n",
    "\n",
    "Fontes\n",
    "https://www.bbc.com/portuguese/internacional-60606340 <br>\n",
    "https://www.nato.int/nato-welcome/index_pt.html"
   ]
  },
  {
   "cell_type": "markdown",
   "metadata": {},
   "source": [
    "Correções:\n",
    "\n",
    "| Tiago Disse:  | Eu Fiz:  |\n",
    "|---|---|\n",
    "|  A análise ficou muito legal no sentido de contrapor evidências favoráveis e contrárias à hipótese. Uma coisa que poderia ser melhorada é ter a referência para o COEDUC, indicando onde poderíamos ler mais sobre a análise que foi citada. | Atualizamos o notebook da APS2 para incluir depois do texto um local com as fontes, mais especificamente a da COEDUC.  |\n",
    "| A frase \"utilizando agora, a porcentagem para medir a quantidade de crianças fora da escola primária ao em vez de dados quantitativos\" está errada, pois a porcentagem também é um dado quantitativo. Acredito que queriam utilizar o termo \"valores absolutos\". Os valores de correlação para a Alemanha estão como NaN. Seria interessante explicar o motivo disso.| Frase do primeiro parágrafo atualizada (corrigida) de acordo com feedback. |"
   ]
  },
  {
   "cell_type": "markdown",
   "metadata": {},
   "source": [
    "# OTAN\n",
    "A OTAN (Organização do Atlântico Norte) foi criada durante a Guerra Fria e se baseia em uma aliança militar entre países do bloco capitalista, e tem como motivo de criação divisões causadas pelo conflito geopolítico da época. O foco principal do bloco era garantir entre os membros apoio e defesa militares entre os membros. Pensando em um contexto de guerra fria o original motivo do estabelecimento da OTAN busca em especial fornecer apoio e garantir que em especial o governo capitalista em países da Europa Ocidental, que estavam em constante conflito com a União Soviética, e portanto integrar esses países (como Bélgica, Luxemburgo e Holanda) garantia não só proteção militar para os mesmos como mantiam eles no polo capitalista do mundo.\n",
    "\n",
    "Dentre os príncipais\n",
    "* a defesa mútua e coletiva entre os Estados pertencentes à organização. \n",
    "* integrar os países do bloco capitalista.\n",
    "* padronização e unificação das técnicas, métodos e sistemas dos aparatos militares dos países membros.\n",
    "* no período da Guerra Fria, conter o avanço do socialismo no mundo.\n",
    "* os representantes do Estados se reúnem com frequência para debater questões pertinentes aos interesses do bloco. \n",
    "\n",
    "Hoje, 28 países integram a OTAN:\n",
    "* Estados Unidos;\n",
    "* Canadá;\n",
    "* Bélgica;\n",
    "* França;\n",
    "* Itália;\n",
    "* Dinamarca;\n",
    "* Islândia;\n",
    "* Noruega;\n",
    "* Portugal;\n",
    "* Luxemburgo;\n",
    "* Reino Unido.\n",
    "* Grécia;\n",
    "* Turquia;\n",
    "* Alemanha Ocidental;\n",
    "* Polônia;\n",
    "* República Tcheca;\n",
    "* Hungria."
   ]
  },
  {
   "cell_type": "markdown",
   "metadata": {},
   "source": [
    "# BRICS\n",
    "\n",
    "O BRICS têm como principal motivo de criação formar um clube político e aliança entre seus cinco membros em especial buscando converter as suas respectivas crescentes economias em uma maior influência geopolítica. O grupo possui reuniões anuais para discutir assuntos de importância geopolítica, já as relações bilaterais entre o grupo são realizadas com base nos princípios de não-interferência, igualdade e benefício mútuo.\n",
    "\n",
    "Dentre os principais:\n",
    "\n",
    "* Cooperação econômica\n",
    "* Cooperação política\n",
    "* Aliança militar\n",
    "\n",
    "Hoje o BRICS tem 5 integrantes:\n",
    "\n",
    "* Brasil\n",
    "* Índia\n",
    "* Africa do Sul\n",
    "* Russia\n",
    "* China"
   ]
  },
  {
   "cell_type": "markdown",
   "metadata": {},
   "source": [
    "Para classificarmos os países utilizamos o dado mais atual da porcentagem de crianças fora da escola (nosso indicador) e comparamos com o índice do mapa, mais especificamente entre 0%-5% classificamos o país como avançado, caso o contrário atrasado.\n",
    "\n",
    "![Mapa + Índice](mapa.png)\n",
    "\n",
    "http://uis.unesco.org/sites/default/files/documents/new-methodology-shows-258-million-children-adolescents-and-youth-are-out-school.pdf"
   ]
  },
  {
   "cell_type": "code",
   "execution_count": 15,
   "metadata": {},
   "outputs": [
    {
     "name": "stderr",
     "output_type": "stream",
     "text": [
      "<ipython-input-15-f20597d261f9>:7: SettingWithCopyWarning: \n",
      "A value is trying to be set on a copy of a slice from a DataFrame.\n",
      "Try using .loc[row_indexer,col_indexer] = value instead\n",
      "\n",
      "See the caveats in the documentation: https://pandas.pydata.org/pandas-docs/stable/user_guide/indexing.html#returning-a-view-versus-a-copy\n",
      "  df_otan['Avançado'] = df['2019'] < 5\n",
      "<ipython-input-15-f20597d261f9>:12: SettingWithCopyWarning: \n",
      "A value is trying to be set on a copy of a slice from a DataFrame.\n",
      "Try using .loc[row_indexer,col_indexer] = value instead\n",
      "\n",
      "See the caveats in the documentation: https://pandas.pydata.org/pandas-docs/stable/user_guide/indexing.html#returning-a-view-versus-a-copy\n",
      "  df_brics['Avançado'] = df['2019'] < 5\n"
     ]
    },
    {
     "data": {
      "text/html": [
       "<div>\n",
       "<style scoped>\n",
       "    .dataframe tbody tr th:only-of-type {\n",
       "        vertical-align: middle;\n",
       "    }\n",
       "\n",
       "    .dataframe tbody tr th {\n",
       "        vertical-align: top;\n",
       "    }\n",
       "\n",
       "    .dataframe thead th {\n",
       "        text-align: right;\n",
       "    }\n",
       "</style>\n",
       "<table border=\"1\" class=\"dataframe\">\n",
       "  <thead>\n",
       "    <tr style=\"text-align: right;\">\n",
       "      <th></th>\n",
       "      <th>Country Name</th>\n",
       "      <th>Country Code</th>\n",
       "      <th>Indicator Name</th>\n",
       "      <th>Indicator Code</th>\n",
       "      <th>1960</th>\n",
       "      <th>1961</th>\n",
       "      <th>1962</th>\n",
       "      <th>1963</th>\n",
       "      <th>1964</th>\n",
       "      <th>1965</th>\n",
       "      <th>...</th>\n",
       "      <th>2014</th>\n",
       "      <th>2015</th>\n",
       "      <th>2016</th>\n",
       "      <th>2017</th>\n",
       "      <th>2018</th>\n",
       "      <th>2019</th>\n",
       "      <th>2020</th>\n",
       "      <th>2021</th>\n",
       "      <th>Unnamed: 66</th>\n",
       "      <th>Avançado</th>\n",
       "    </tr>\n",
       "  </thead>\n",
       "  <tbody>\n",
       "    <tr>\n",
       "      <th>29</th>\n",
       "      <td>Brazil</td>\n",
       "      <td>BRA</td>\n",
       "      <td>Children out of school (% of primary school age)</td>\n",
       "      <td>SE.PRM.UNER.ZS</td>\n",
       "      <td>NaN</td>\n",
       "      <td>NaN</td>\n",
       "      <td>NaN</td>\n",
       "      <td>NaN</td>\n",
       "      <td>NaN</td>\n",
       "      <td>NaN</td>\n",
       "      <td>...</td>\n",
       "      <td>0.13608</td>\n",
       "      <td>0.71881</td>\n",
       "      <td>0.83841</td>\n",
       "      <td>0.39079</td>\n",
       "      <td>0.51906</td>\n",
       "      <td>0.57306</td>\n",
       "      <td>NaN</td>\n",
       "      <td>NaN</td>\n",
       "      <td>NaN</td>\n",
       "      <td>True</td>\n",
       "    </tr>\n",
       "    <tr>\n",
       "      <th>40</th>\n",
       "      <td>China</td>\n",
       "      <td>CHN</td>\n",
       "      <td>Children out of school (% of primary school age)</td>\n",
       "      <td>SE.PRM.UNER.ZS</td>\n",
       "      <td>NaN</td>\n",
       "      <td>NaN</td>\n",
       "      <td>NaN</td>\n",
       "      <td>NaN</td>\n",
       "      <td>NaN</td>\n",
       "      <td>NaN</td>\n",
       "      <td>...</td>\n",
       "      <td>NaN</td>\n",
       "      <td>NaN</td>\n",
       "      <td>NaN</td>\n",
       "      <td>NaN</td>\n",
       "      <td>NaN</td>\n",
       "      <td>NaN</td>\n",
       "      <td>NaN</td>\n",
       "      <td>NaN</td>\n",
       "      <td>NaN</td>\n",
       "      <td>False</td>\n",
       "    </tr>\n",
       "    <tr>\n",
       "      <th>109</th>\n",
       "      <td>India</td>\n",
       "      <td>IND</td>\n",
       "      <td>Children out of school (% of primary school age)</td>\n",
       "      <td>SE.PRM.UNER.ZS</td>\n",
       "      <td>NaN</td>\n",
       "      <td>NaN</td>\n",
       "      <td>NaN</td>\n",
       "      <td>NaN</td>\n",
       "      <td>NaN</td>\n",
       "      <td>NaN</td>\n",
       "      <td>...</td>\n",
       "      <td>NaN</td>\n",
       "      <td>NaN</td>\n",
       "      <td>NaN</td>\n",
       "      <td>NaN</td>\n",
       "      <td>NaN</td>\n",
       "      <td>NaN</td>\n",
       "      <td>5.37329</td>\n",
       "      <td>NaN</td>\n",
       "      <td>NaN</td>\n",
       "      <td>False</td>\n",
       "    </tr>\n",
       "    <tr>\n",
       "      <th>202</th>\n",
       "      <td>Russian Federation</td>\n",
       "      <td>RUS</td>\n",
       "      <td>Children out of school (% of primary school age)</td>\n",
       "      <td>SE.PRM.UNER.ZS</td>\n",
       "      <td>NaN</td>\n",
       "      <td>NaN</td>\n",
       "      <td>NaN</td>\n",
       "      <td>NaN</td>\n",
       "      <td>NaN</td>\n",
       "      <td>NaN</td>\n",
       "      <td>...</td>\n",
       "      <td>2.55306</td>\n",
       "      <td>1.33646</td>\n",
       "      <td>0.59348</td>\n",
       "      <td>0.13300</td>\n",
       "      <td>0.16377</td>\n",
       "      <td>0.07131</td>\n",
       "      <td>NaN</td>\n",
       "      <td>NaN</td>\n",
       "      <td>NaN</td>\n",
       "      <td>True</td>\n",
       "    </tr>\n",
       "    <tr>\n",
       "      <th>263</th>\n",
       "      <td>South Africa</td>\n",
       "      <td>ZAF</td>\n",
       "      <td>Children out of school (% of primary school age)</td>\n",
       "      <td>SE.PRM.UNER.ZS</td>\n",
       "      <td>NaN</td>\n",
       "      <td>NaN</td>\n",
       "      <td>NaN</td>\n",
       "      <td>NaN</td>\n",
       "      <td>NaN</td>\n",
       "      <td>NaN</td>\n",
       "      <td>...</td>\n",
       "      <td>NaN</td>\n",
       "      <td>4.35449</td>\n",
       "      <td>NaN</td>\n",
       "      <td>7.55062</td>\n",
       "      <td>11.00796</td>\n",
       "      <td>10.78704</td>\n",
       "      <td>NaN</td>\n",
       "      <td>NaN</td>\n",
       "      <td>NaN</td>\n",
       "      <td>False</td>\n",
       "    </tr>\n",
       "  </tbody>\n",
       "</table>\n",
       "<p>5 rows × 68 columns</p>\n",
       "</div>"
      ],
      "text/plain": [
       "           Country Name Country Code  \\\n",
       "29               Brazil          BRA   \n",
       "40                China          CHN   \n",
       "109               India          IND   \n",
       "202  Russian Federation          RUS   \n",
       "263        South Africa          ZAF   \n",
       "\n",
       "                                       Indicator Name  Indicator Code  1960  \\\n",
       "29   Children out of school (% of primary school age)  SE.PRM.UNER.ZS   NaN   \n",
       "40   Children out of school (% of primary school age)  SE.PRM.UNER.ZS   NaN   \n",
       "109  Children out of school (% of primary school age)  SE.PRM.UNER.ZS   NaN   \n",
       "202  Children out of school (% of primary school age)  SE.PRM.UNER.ZS   NaN   \n",
       "263  Children out of school (% of primary school age)  SE.PRM.UNER.ZS   NaN   \n",
       "\n",
       "     1961  1962  1963  1964  1965  ...     2014     2015     2016     2017  \\\n",
       "29    NaN   NaN   NaN   NaN   NaN  ...  0.13608  0.71881  0.83841  0.39079   \n",
       "40    NaN   NaN   NaN   NaN   NaN  ...      NaN      NaN      NaN      NaN   \n",
       "109   NaN   NaN   NaN   NaN   NaN  ...      NaN      NaN      NaN      NaN   \n",
       "202   NaN   NaN   NaN   NaN   NaN  ...  2.55306  1.33646  0.59348  0.13300   \n",
       "263   NaN   NaN   NaN   NaN   NaN  ...      NaN  4.35449      NaN  7.55062   \n",
       "\n",
       "         2018      2019     2020  2021  Unnamed: 66  Avançado  \n",
       "29    0.51906   0.57306      NaN   NaN          NaN      True  \n",
       "40        NaN       NaN      NaN   NaN          NaN     False  \n",
       "109       NaN       NaN  5.37329   NaN          NaN     False  \n",
       "202   0.16377   0.07131      NaN   NaN          NaN      True  \n",
       "263  11.00796  10.78704      NaN   NaN          NaN     False  \n",
       "\n",
       "[5 rows x 68 columns]"
      ]
     },
     "execution_count": 15,
     "metadata": {},
     "output_type": "execute_result"
    }
   ],
   "source": [
    "import pandas as pd\n",
    "\n",
    "#OTAN\n",
    "df = pd.read_csv('dados_corrigidos/API_SE.PRM.UNER.ZS_DS2_en_csv_v2_4492680.csv', sep=',', encoding='latin1', skiprows=4, decimal='.')\n",
    "filtro_otan = ['United States','Canada','Belgium','France','Italy','Denmark','Iceland','Norway','Portugal','Luxembourg','United Kingdom','Greece','Turkiye','Germany','Poland','Czech Republic','Hungary']\n",
    "df_otan = df[df['Country Name'].isin(filtro_otan)]\n",
    "df_otan['Avançado'] = df['2019'] < 5\n",
    "\n",
    "#BRICS\n",
    "filtros_brics = ['Brazil','India', 'South Africa', 'Russian Federation', 'China']\n",
    "df_brics = df[df['Country Name'].isin(filtros_brics)]\n",
    "df_brics['Avançado'] = df['2019'] < 5\n",
    "df_brics.head()"
   ]
  },
  {
   "cell_type": "markdown",
   "metadata": {},
   "source": [
    "**3. P(avançado|bloco)**"
   ]
  },
  {
   "cell_type": "code",
   "execution_count": 16,
   "metadata": {},
   "outputs": [
    {
     "name": "stdout",
     "output_type": "stream",
     "text": [
      "Porcentagem de Avançados:\n",
      "OTAN: 94.1%\n",
      "BRICS: 40.0%\n"
     ]
    }
   ],
   "source": [
    "print('Porcentagem de Avançados:')\n",
    "print(f\"OTAN: {100 * len(df_otan[df_otan['Avançado'] == True]) / len(df_otan):.1f}%\")\n",
    "print(f\"BRICS: {100 * len(df_brics[df_brics['Avançado'] == True]) / len(df_brics)}%\")"
   ]
  },
  {
   "cell_type": "markdown",
   "metadata": {},
   "source": [
    "**4. Teorema de Bayes**"
   ]
  },
  {
   "cell_type": "code",
   "execution_count": 17,
   "metadata": {},
   "outputs": [],
   "source": [
    "filtro_brics_avancado = df_brics['Avançado'] == True\n",
    "df_brics_avancado = df_brics[filtro_brics_avancado]\n",
    "\n",
    "filtro_otan_avancado = df_otan['Avançado'] == True\n",
    "df_otan_avancado = df_otan[filtro_otan_avancado]\n",
    "\n",
    "filtro_brics_atrasado = df_brics['Avançado'] == False\n",
    "df_brics_atrasado = df_brics[filtro_brics_atrasado]\n",
    "\n",
    "filtro_otan_atrasado = df_otan['Avançado'] == False\n",
    "df_otan_atrasado = df_otan[filtro_otan_atrasado]"
   ]
  },
  {
   "cell_type": "code",
   "execution_count": 18,
   "metadata": {},
   "outputs": [
    {
     "name": "stdout",
     "output_type": "stream",
     "text": [
      "P(brics/avançado):  0.1111111111111111\n",
      "P(otan/avançado):  0.8888888888888888\n",
      "P(brics/atrasado):  0.7499999999999999\n",
      "P(otan/atrasado):  0.25\n"
     ]
    }
   ],
   "source": [
    "#----------------------------- BRICS AVANCADO-----------------------------#\n",
    "#p(A|B)\n",
    "p_avancado_dado_bricks = (len(df_brics_avancado)/len(df_brics))\n",
    "#P(A)\n",
    "p_avancado = (len(df_brics_avancado) + len(df_otan_avancado)) / (len(df_brics) + len(df_otan))\n",
    "#P(B)\n",
    "p_brics = (len(df_brics)/((len(df_brics)+len(df_otan))))\n",
    "\n",
    "bayes_brics_avancado = p_avancado_dado_bricks * p_brics / p_avancado\n",
    "print('P(brics/avançado): ',bayes_brics_avancado)\n",
    "\n",
    "\n",
    "\n",
    "#----------------------------- OTAN AVANCADO -----------------------------#\n",
    "#p(A|B)\n",
    "p_avancado_dado_otan = (len(df_otan_avancado)/len(df_otan))\n",
    "#P(A)\n",
    "p_avancado = (len(df_brics_avancado) + len(df_otan_avancado)) / (len(df_brics) + len(df_otan))\n",
    "#P(B)\n",
    "p_otan = (len(df_otan)/((len(df_brics)+len(df_otan))))\n",
    "\n",
    "bayes_otan_avancado = p_avancado_dado_otan * p_otan / p_avancado\n",
    "print('P(otan/avançado): ',bayes_otan_avancado)\n",
    "\n",
    "\n",
    "#----------------------------- BRICS ATRASADO-----------------------------#\n",
    "#p(A|B)\n",
    "p_atrasado_dado_bricks = (len(df_brics_atrasado)/len(df_brics))\n",
    "#P(A)\n",
    "p_atrasado= (len(df_brics_atrasado) + len(df_otan_atrasado)) / (len(df_brics) + len(df_otan))\n",
    "#P(B)\n",
    "p_brics = (len(df_brics)/((len(df_brics)+len(df_otan))))\n",
    "\n",
    "bayes_brics_atrasado = p_atrasado_dado_bricks * p_brics / p_atrasado\n",
    "print('P(brics/atrasado): ',bayes_brics_atrasado)\n",
    "\n",
    "#----------------------------- OTAN ATRASADO-----------------------------#\n",
    "#p(A|B)\n",
    "p_atrasado_dado_otan = (len(df_otan_atrasado)/len(df_otan))\n",
    "#P(A)\n",
    "p_atrasado= (len(df_brics_atrasado) + len(df_otan_atrasado)) / (len(df_brics) + len(df_otan))\n",
    "#P(B)\n",
    "p_otan = (len(df_otan)/((len(df_brics)+len(df_otan))))\n",
    "\n",
    "bayes_otan_atrasado = p_atrasado_dado_otan * p_otan / p_atrasado\n",
    "print('P(otan/atrasado): ',bayes_otan_atrasado)"
   ]
  },
  {
   "cell_type": "markdown",
   "metadata": {},
   "source": [
    "**5. Sistema de Classificação**"
   ]
  },
  {
   "cell_type": "code",
   "execution_count": 19,
   "metadata": {},
   "outputs": [],
   "source": [
    "# função para prever de qual bloco um país é.\n",
    "# recebe atrasado ou avançado: retorna qual bloco ele deveria ser\n",
    "p_brics_avancado = 0.11111111111\n",
    "p_brics_atrasado = 0.88888888888\n",
    "\n",
    "p_otan_avancado = 0.74999999999\n",
    "p_otan_atrasado = 0.25\n",
    "\n",
    "def predict(estado):\n",
    "    if estado == False:\n",
    "        return 'Brics'\n",
    "    return 'Otan' \n",
    "\n",
    "def validator(pais,predict): \n",
    "    brics = [i[1] for i in df_brics.itertuples()]\n",
    "    otan = [i[1] for i in df_otan.itertuples()]\n",
    "\n",
    "    if predict == 'Brics':\n",
    "        if pais in brics:\n",
    "            return True\n",
    "        return False\n",
    "    else: \n",
    "        if pais in otan:\n",
    "            return True\n",
    "        return False\n",
    "    "
   ]
  },
  {
   "cell_type": "code",
   "execution_count": 20,
   "metadata": {},
   "outputs": [
    {
     "name": "stdout",
     "output_type": "stream",
     "text": [
      "Assertividade para os Brics: 60.0%\n",
      "Assertividade para a Otan: 94.12%\n"
     ]
    }
   ],
   "source": [
    "brics = []\n",
    "for i in df_brics.iterrows():\n",
    "    p = predict(i[1][67])\n",
    "    brics.append(validator(i[1][0], p))\n",
    "\n",
    "otan = []\n",
    "for i in df_otan.iterrows():\n",
    "    p = predict(i[1][67])\n",
    "    otan.append(validator(i[1][0], p))\n",
    "\n",
    "print(f'Assertividade para os Brics: {100 * brics.count(True)/len(brics)}%')\n",
    "print(f'Assertividade para a Otan: {100 * otan.count(True)/len(otan):.2f}%')"
   ]
  },
  {
   "cell_type": "code",
   "execution_count": 21,
   "metadata": {},
   "outputs": [
    {
     "data": {
      "image/png": "[encoded data removed]",
      "text/plain": [
       "<Figure size 720x720 with 1 Axes>"
      ]
     },
     "metadata": {
      "needs_background": "light"
     },
     "output_type": "display_data"
    }
   ],
   "source": [
    "import matplotlib.pyplot as plt\n",
    "\n",
    "x = ['OTAN','BRICS']\n",
    "y = [97,40]\n",
    "y1 = [3,60]\n",
    "\n",
    "plt.figure(figsize=(10,10))\n",
    "plt.bar(x, y, color='b', label='Avançados', width=0.5)\n",
    "plt.bar(x,y1,bottom=y, color='r', label='Atrasados', width=0.5)\n",
    "plt.ylabel('Países do Bloco (%)')\n",
    "plt.xlabel('Blocos Econômicos')\n",
    "plt.title('Blocos Economicos Países Avançados x Atrasados em relação ao Índice de Crianças Fora da Escola')\n",
    "plt.legend(loc='upper right')\n",
    "plt.show()"
   ]
  }
 ],
 "metadata": {
  "kernelspec": {
   "display_name": "Python 3.8.10 64-bit",
   "language": "python",
   "name": "python3"
  },
  "language_info": {
   "codemirror_mode": {
    "name": "ipython",
    "version": 3
   },
   "file_extension": ".py",
   "mimetype": "text/x-python",
   "name": "python",
   "nbconvert_exporter": "python",
   "pygments_lexer": "ipython3",
   "version": "3.8.10"
  },
  "orig_nbformat": 4,
  "vscode": {
   "interpreter": {
    "hash": "916dbcbb3f70747c44a77c7bcd40155683ae19c65e1c03b4aa3499c5328201f1"
   }
  }
 },
 "nbformat": 4,
 "nbformat_minor": 2
}
