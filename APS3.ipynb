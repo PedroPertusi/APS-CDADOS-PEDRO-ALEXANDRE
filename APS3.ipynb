{
 "cells": [
  {
   "cell_type": "markdown",
   "metadata": {},
   "source": [
    "**Parte 3: Distribuições**\n",
    "<br> Analisar relações entre as variáveis, utilizando ferramentas estatísticas inferenciais adequadas\n",
    "\n",
    "Desde o começo dos anos 1990, vários países têm se agrupado em blocos de interesse comum, como a União Européia e o Mercosul. Os blocos econômicos são grupos de países que decidem reduzir suas restrições para comércio, financiamento ou trânsito de pessoas entre si, numa tentativa de incentivar suas economias e ao mesmo tempo protegê-las de competições desiguais. Nesta etapa, faremos a análise de blocos econômicos frente aos indicadores que escolhemos.\n",
    "\n",
    "1. Escolha dois blocos econômicos (por exemplo, Mercosul, União Européia, BRICS, OPEP, etc.). Pesquise para entender quais foram os critérios para a criação do bloco (proximidade geográfica? Proximidade econômica? Proximidade cultural? Outro?) e quais foram as aberturas providas pelo bloco (isenção de impostos? trânsito de pessoas? acesso a financiamentos? outro?)\n",
    "2. Em cada um dos países dos blocos, verifique se deveriam ser classificados como “avançado” ou “atrasado” em relação ao indicador que você escolheu no ítem 1. Defina claramente qual foi seu critério para esta separação!\n",
    "3. Para cada bloco, estime a probabilidade de um país daquele bloco ser avançado, isto é, P(avançado|bloco).\n",
    "4. Usando o Teorema de Bayes, estime, para cada bloco, P(bloco|avançado).\n",
    "5. Projete um pequeno sistema que classifica países como participantes de algum bloco à partir da informação de eles serem avançados ou não no indicador que foi escolhido.\n",
    "6. Conclua: o indicador que você escolheu é um bom preditor para o bloco econômico?"
   ]
  },
  {
   "cell_type": "markdown",
   "metadata": {},
   "source": [
    "# OTAN\n",
    "A OTAN (Organização do Atlântico Norte) foi criada durante a Guerra Fria e se baseia em uma aliança militar entre países do bloco capitalista, e tem como motivo de criação divisões causadas pelo conflito geopolítico da época. O foco principal do bloco era garantir entre os membros apoio e defesa militares entre os membros. Pensando em um contexto de guerra fria o original motivo do estabelecimento da OTAN busca em especial fornecer apoio e garantir que em especial o governo capitalista em países da Europa Ocidental, que estavam em constante conflito com a União Soviética, e portanto integrar esses países (como Bélgica, Luxemburgo e Holanda) garantia não só proteção militar para os mesmos como mantiam eles no polo capitalista do mundo.\n",
    "\n",
    "Dentre os príncipais\n",
    "* a defesa mútua e coletiva entre os Estados pertencentes à organização. \n",
    "* integrar os países do bloco capitalista.\n",
    "* padronização e unificação das técnicas, métodos e sistemas dos aparatos militares dos países membros.\n",
    "* no período da Guerra Fria, conter o avanço do socialismo no mundo.\n",
    "* os representantes do Estados se reúnem com frequência para debater questões pertinentes aos interesses do bloco. \n",
    "\n",
    "Hoje, 28 países integram a OTAN:\n",
    "* Estados Unidos;\n",
    "* Canadá;\n",
    "* Bélgica;\n",
    "* França;\n",
    "* Itália;\n",
    "* Dinamarca;\n",
    "* Islândia;\n",
    "* Noruega;\n",
    "* Portugal;\n",
    "* Luxemburgo;\n",
    "* Reino Unido.\n",
    "* Grécia;\n",
    "* Turquia;\n",
    "* Alemanha Ocidental;\n",
    "* Polônia;\n",
    "* República Tcheca;\n",
    "* Hungria."
   ]
  },
  {
   "cell_type": "markdown",
   "metadata": {},
   "source": [
    "# BRICS\n",
    "\n",
    "O BRICS têm como principal motivo de criação formar um clube político e aliança entre seus cinco membros em especial buscando converter as suas respectivas crescentes economias em uma maior influência geopolítica. O grupo possui reuniões anuais para discutir assuntos de importância geopolítica, já as relações bilaterais entre o grupo são realizadas com base nos princípios de não-interferência, igualdade e benefício mútuo.\n",
    "\n",
    "Dentre os principais:\n",
    "\n",
    "* Cooperação econômica\n",
    "* Cooperação política\n",
    "* Aliança militar\n",
    "\n",
    "Hoje o BRICS tem 5 integrantes:\n",
    "\n",
    "* Brasil\n",
    "* Índia\n",
    "* Africa do Sul\n",
    "* Russia\n",
    "* China"
   ]
  },
  {
   "cell_type": "markdown",
   "metadata": {},
   "source": [
    "Para classificarmos os países utilizamos o dado mais atual da porcentagem de crianças fora da escola (nosso indicador) e comparamos com o índice do mapa, mais especificamente entre 0%-5% classificamos o país como avançado, caso o contrário atrasado.\n",
    "\n",
    "![Mapa + Índice](mapa.png)\n",
    "\n",
    "http://uis.unesco.org/sites/default/files/documents/new-methodology-shows-258-million-children-adolescents-and-youth-are-out-school.pdf"
   ]
  },
  {
   "cell_type": "code",
   "execution_count": 54,
   "metadata": {},
   "outputs": [
    {
     "name": "stdout",
     "output_type": "stream",
     "text": [
      "           Country Name Country Code  \\\n",
      "29               Brazil          BRA   \n",
      "40                China          CHN   \n",
      "109               India          IND   \n",
      "202  Russian Federation          RUS   \n",
      "263        South Africa          ZAF   \n",
      "\n",
      "                                       Indicator Name  Indicator Code  1960  \\\n",
      "29   Children out of school (% of primary school age)  SE.PRM.UNER.ZS   NaN   \n",
      "40   Children out of school (% of primary school age)  SE.PRM.UNER.ZS   NaN   \n",
      "109  Children out of school (% of primary school age)  SE.PRM.UNER.ZS   NaN   \n",
      "202  Children out of school (% of primary school age)  SE.PRM.UNER.ZS   NaN   \n",
      "263  Children out of school (% of primary school age)  SE.PRM.UNER.ZS   NaN   \n",
      "\n",
      "     1961  1962  1963  1964  1965  ...     2014     2015     2016     2017  \\\n",
      "29    NaN   NaN   NaN   NaN   NaN  ...  0.13608  0.71881  0.83841  0.39079   \n",
      "40    NaN   NaN   NaN   NaN   NaN  ...      NaN      NaN      NaN      NaN   \n",
      "109   NaN   NaN   NaN   NaN   NaN  ...      NaN      NaN      NaN      NaN   \n",
      "202   NaN   NaN   NaN   NaN   NaN  ...  2.55306  1.33646  0.59348  0.13300   \n",
      "263   NaN   NaN   NaN   NaN   NaN  ...      NaN  4.35449      NaN  7.55062   \n",
      "\n",
      "         2018      2019     2020  2021  Unnamed: 66  Classificação  \n",
      "29    0.51906   0.57306      NaN   NaN          NaN           True  \n",
      "40        NaN       NaN      NaN   NaN          NaN          False  \n",
      "109       NaN       NaN  5.37329   NaN          NaN          False  \n",
      "202   0.16377   0.07131      NaN   NaN          NaN           True  \n",
      "263  11.00796  10.78704      NaN   NaN          NaN          False  \n",
      "\n",
      "[5 rows x 68 columns]\n"
     ]
    },
    {
     "name": "stderr",
     "output_type": "stream",
     "text": [
      "/var/folders/_1/r43prrg90j18zc5g3c_q_qt00000gn/T/ipykernel_12960/1263328532.py:7: SettingWithCopyWarning: \n",
      "A value is trying to be set on a copy of a slice from a DataFrame.\n",
      "Try using .loc[row_indexer,col_indexer] = value instead\n",
      "\n",
      "See the caveats in the documentation: https://pandas.pydata.org/pandas-docs/stable/user_guide/indexing.html#returning-a-view-versus-a-copy\n",
      "  df_otan['Classificação'] = df['2019'] < 5\n",
      "/var/folders/_1/r43prrg90j18zc5g3c_q_qt00000gn/T/ipykernel_12960/1263328532.py:12: SettingWithCopyWarning: \n",
      "A value is trying to be set on a copy of a slice from a DataFrame.\n",
      "Try using .loc[row_indexer,col_indexer] = value instead\n",
      "\n",
      "See the caveats in the documentation: https://pandas.pydata.org/pandas-docs/stable/user_guide/indexing.html#returning-a-view-versus-a-copy\n",
      "  df_brics['Classificação'] = df['2019'] < 5\n"
     ]
    }
   ],
   "source": [
    "import pandas as pd\n",
    "\n",
    "#OTAN\n",
    "df = pd.read_csv('dados_corrigidos/API_SE.PRM.UNER.ZS_DS2_en_csv_v2_4492680.csv', sep=',', encoding='latin1', skiprows=4, decimal='.')\n",
    "filtro_otan = ['United States','Canada','Belgium','France','Italy','Denmark','Iceland','Norway','Portugal','Luxembourg','United Kingdom','Greece','Turkiye','Germany','Poland','Czech Republic','Hungary']\n",
    "df_otan = df[df['Country Name'].isin(filtro_otan)]\n",
    "df_otan['Classificação'] = df['2019'] < 5\n",
    "\n",
    "#BRICS\n",
    "filtros_brics = ['Brazil','India', 'South Africa', 'Russian Federation', 'China']\n",
    "df_brics = df[df['Country Name'].isin(filtros_brics)]\n",
    "df_brics['Classificação'] = df['2019'] < 5\n",
    "\n",
    "print(df_brics)\n"
   ]
  }
 ],
 "metadata": {
  "kernelspec": {
   "display_name": "Python 3.9.10 64-bit",
   "language": "python",
   "name": "python3"
  },
  "language_info": {
   "codemirror_mode": {
    "name": "ipython",
    "version": 3
   },
   "file_extension": ".py",
   "mimetype": "text/x-python",
   "name": "python",
   "nbconvert_exporter": "python",
   "pygments_lexer": "ipython3",
   "version": "3.9.10"
  },
  "orig_nbformat": 4,
  "vscode": {
   "interpreter": {
    "hash": "aee8b7b246df8f9039afb4144a1f6fd8d2ca17a180786b69acc140d282b71a49"
   }
  }
 },
 "nbformat": 4,
 "nbformat_minor": 2
}
